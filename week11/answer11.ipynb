{
 "cells": [
  {
   "metadata": {},
   "cell_type": "markdown",
   "source": "Task 1",
   "id": "f31ca4d5c41406c3"
  },
  {
   "cell_type": "code",
   "id": "initial_id",
   "metadata": {
    "collapsed": true,
    "ExecuteTime": {
     "end_time": "2025-06-17T13:31:06.632978Z",
     "start_time": "2025-06-17T13:31:06.626529Z"
    }
   },
   "source": [
    "def print_line(section, size):\n",
    "    print(\"+ \", end=\"\")\n",
    "    for i in range(section):\n",
    "        print(\"- \"*size + \"+ \", end=\"\")\n",
    "    print()\n",
    "print_line(2,4)"
   ],
   "outputs": [
    {
     "name": "stdout",
     "output_type": "stream",
     "text": [
      "+ - - - - + - - - - + \n"
     ]
    }
   ],
   "execution_count": 17
  },
  {
   "metadata": {},
   "cell_type": "markdown",
   "source": "Task 2",
   "id": "e78f92db23ea3368"
  },
  {
   "metadata": {
    "ExecuteTime": {
     "end_time": "2025-06-17T13:31:09.836569Z",
     "start_time": "2025-06-17T13:31:09.831259Z"
    }
   },
   "cell_type": "code",
   "source": [
    "def print_line_col(section, size):\n",
    "    print(\".\", end=\"\")\n",
    "    for i in range(section):\n",
    "        print(\" \"*size*2 + \" .\", end=\"\")\n",
    "    print(\"\")\n",
    "\n",
    "def print_grid(section, size):\n",
    "    print_line(section, size)\n",
    "    for i in range(section):\n",
    "        for j in range(size):\n",
    "          print_line_col(section, size)\n",
    "        print_line(section, size)\n",
    "\n",
    "print_grid(2,5)"
   ],
   "id": "d1d9d8c471f3bc41",
   "outputs": [
    {
     "name": "stdout",
     "output_type": "stream",
     "text": [
      "+ - - - - - + - - - - - + \n",
      ".           .           .\n",
      ".           .           .\n",
      ".           .           .\n",
      ".           .           .\n",
      ".           .           .\n",
      "+ - - - - - + - - - - - + \n",
      ".           .           .\n",
      ".           .           .\n",
      ".           .           .\n",
      ".           .           .\n",
      ".           .           .\n",
      "+ - - - - - + - - - - - + \n"
     ]
    }
   ],
   "execution_count": 19
  },
  {
   "metadata": {},
   "cell_type": "markdown",
   "source": "Task 3",
   "id": "bd44d7ba07349af5"
  },
  {
   "metadata": {
    "ExecuteTime": {
     "end_time": "2025-06-17T13:31:12.033154Z",
     "start_time": "2025-06-17T13:31:12.028553Z"
    }
   },
   "cell_type": "code",
   "source": [
    "def print_grid(col, row, size):\n",
    "    print_line(col, size)\n",
    "    for i in range(row):\n",
    "        for j in range(size):\n",
    "          print_line_col(col, size)\n",
    "        print_line(col, size)\n",
    "\n",
    "print_grid(4,2,2)"
   ],
   "id": "8316766c8f42ecea",
   "outputs": [
    {
     "name": "stdout",
     "output_type": "stream",
     "text": [
      "+ - - + - - + - - + - - + \n",
      ".     .     .     .     .\n",
      ".     .     .     .     .\n",
      "+ - - + - - + - - + - - + \n",
      ".     .     .     .     .\n",
      ".     .     .     .     .\n",
      "+ - - + - - + - - + - - + \n"
     ]
    }
   ],
   "execution_count": 20
  },
  {
   "metadata": {},
   "cell_type": "markdown",
   "source": "Task 4",
   "id": "b65ad81975fb1177"
  },
  {
   "metadata": {
    "ExecuteTime": {
     "end_time": "2025-06-17T13:31:13.879087Z",
     "start_time": "2025-06-17T13:31:13.873830Z"
    }
   },
   "cell_type": "code",
   "source": [
    "def get_line(section, size):\n",
    "    return \"+ \" + (\"- \" * size + \"+ \") * section\n",
    "\n",
    "def get_col(section, size):\n",
    "    return \". \" + (\"  \" * size + \". \") * section\n",
    "\n",
    "def get_grid(col, row,  size):\n",
    "    pattern = \"\"\n",
    "    pattern += get_line(col, size) + \"\\n\"\n",
    "    for i in range(row):\n",
    "        for j in range(size):\n",
    "            pattern += get_col(col, size) + \"\\n\"\n",
    "        pattern += get_line(col, size) + \"\\n\"\n",
    "    return pattern\n",
    "\n",
    "#print(get_line(2,4))\n",
    "#print(get_col(2,4))\n",
    "print(get_grid(4,2,1))"
   ],
   "id": "c005ce7bf2792374",
   "outputs": [
    {
     "name": "stdout",
     "output_type": "stream",
     "text": [
      "+ - + - + - + - + \n",
      ".   .   .   .   . \n",
      "+ - + - + - + - + \n",
      ".   .   .   .   . \n",
      "+ - + - + - + - + \n",
      "\n"
     ]
    }
   ],
   "execution_count": 21
  }
 ],
 "metadata": {
  "kernelspec": {
   "display_name": "Python 3",
   "language": "python",
   "name": "python3"
  },
  "language_info": {
   "codemirror_mode": {
    "name": "ipython",
    "version": 2
   },
   "file_extension": ".py",
   "mimetype": "text/x-python",
   "name": "python",
   "nbconvert_exporter": "python",
   "pygments_lexer": "ipython2",
   "version": "2.7.6"
  }
 },
 "nbformat": 4,
 "nbformat_minor": 5
}
