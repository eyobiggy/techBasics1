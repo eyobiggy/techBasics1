{
 "cells": [
  {
   "metadata": {},
   "cell_type": "markdown",
   "source": [
    "#### In-class Exercise\n",
    "1. Write a function that takes two parameters. It draws a line like the following:\n",
    "\n",
    "print_line(2,4): 2 sections(separated by + ), each section has a size of 4 (-)\n",
    "```\n",
    "+ - - - - + - - - - +\n",
    "```\n",
    "print_line(4,2): 4 sections, each section has a size of 2\n",
    "```\n",
    "+ - - + - - + - - + - - +\n",
    "```"
   ],
   "id": "e6cb644e8524c1de"
  },
  {
   "cell_type": "code",
   "id": "initial_id",
   "metadata": {
    "collapsed": true,
    "ExecuteTime": {
     "end_time": "2025-06-16T22:40:49.407794Z",
     "start_time": "2025-06-16T22:40:49.400162Z"
    }
   },
   "source": [
    "def print_line(section, size):\n",
    "    pass\n",
    "print_line(2,4)"
   ],
   "outputs": [],
   "execution_count": 83
  },
  {
   "metadata": {},
   "cell_type": "markdown",
   "source": [
    "2. Write a function `print_grid(section, size)`\n",
    "\n",
    "print_grid(3,1) would print a small grid:\n",
    "```\n",
    "+ - + - + - +\n",
    ".   .   .   .\n",
    "+ - + - + - +\n",
    ".   .   .   .\n",
    "+ - + - + - +\n",
    ".   .   .   .\n",
    "+ - + - + - +\n",
    "```\n",
    "\n",
    "print_grid(2, 5) prints a larger grid:\n",
    "\n",
    "```\n",
    "+ - - - - - + - - - - - +\n",
    ".           .           .\n",
    ".           .           .\n",
    ".           .           .\n",
    ".           .           .\n",
    ".           .           .\n",
    "+ - - - - - + - - - - - +\n",
    ".           .           .\n",
    ".           .           .\n",
    ".           .           .\n",
    ".           .           .\n",
    ".           .           .\n",
    "+ - - - - - + - - - - - +\n",
    "```\n"
   ],
   "id": "b60c04b944b46611"
  },
  {
   "metadata": {
    "ExecuteTime": {
     "end_time": "2025-06-16T22:41:12.503872Z",
     "start_time": "2025-06-16T22:41:12.500852Z"
    }
   },
   "cell_type": "code",
   "source": [
    "def print_grid(section, size):\n",
    "    pass\n",
    "\n",
    "print_grid(2,5)"
   ],
   "id": "5a8f5673fa40253d",
   "outputs": [],
   "execution_count": 84
  },
  {
   "metadata": {},
   "cell_type": "markdown",
   "source": [
    "3. Adjust your grid function so that it takes three parameters: \\\n",
    "    `print_grid(col, row, size)`\n",
    "print_grid(4,2,2) prints\n",
    "```\n",
    "+ - - + - - + - - + - - +\n",
    ".     .     .     .     .\n",
    ".     .     .     .     .\n",
    "+ - - + - - + - - + - - +\n",
    ".     .     .     .     .\n",
    ".     .     .     .     .\n",
    "+ - - + - - + - - + - - +\n",
    "```"
   ],
   "id": "551111692f81bc88"
  },
  {
   "metadata": {
    "ExecuteTime": {
     "end_time": "2025-06-16T22:32:44.110015Z",
     "start_time": "2025-06-16T22:32:44.105526Z"
    }
   },
   "cell_type": "code",
   "source": [
    "def print_grid(col, row, size):\n",
    "    pass\n",
    "\n",
    "print_grid(4,2,2)"
   ],
   "id": "a3a5ea1d4d27ce31",
   "outputs": [
    {
     "name": "stdout",
     "output_type": "stream",
     "text": [
      "+ - - + - - + - - + - - + \n",
      ".     .     .     .     .\n",
      ".     .     .     .     .\n",
      "+ - - + - - + - - + - - + \n",
      ".     .     .     .     .\n",
      ".     .     .     .     .\n",
      "+ - - + - - + - - + - - + \n"
     ]
    }
   ],
   "execution_count": 79
  },
  {
   "metadata": {},
   "cell_type": "markdown",
   "source": "Bonus: How to change the function so that it returns the grid as a string?",
   "id": "99dd5c17f823eb13"
  }
 ],
 "metadata": {
  "kernelspec": {
   "display_name": "Python 3",
   "language": "python",
   "name": "python3"
  },
  "language_info": {
   "codemirror_mode": {
    "name": "ipython",
    "version": 2
   },
   "file_extension": ".py",
   "mimetype": "text/x-python",
   "name": "python",
   "nbconvert_exporter": "python",
   "pygments_lexer": "ipython2",
   "version": "2.7.6"
  }
 },
 "nbformat": 4,
 "nbformat_minor": 5
}
